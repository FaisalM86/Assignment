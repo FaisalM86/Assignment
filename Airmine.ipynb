{
 "cells": [
  {
   "attachments": {},
   "cell_type": "markdown",
   "metadata": {},
   "source": [
    "Importing libraries\n",
    "\n",
    "The application is build in Python 3.8.6"
   ]
  },
  {
   "cell_type": "code",
   "execution_count": 2,
   "metadata": {},
   "outputs": [],
   "source": [
    "import argparse\n",
    "import csv\n",
    "import random\n",
    "from math import radians, cos, sin, sqrt, atan2"
   ]
  },
  {
   "attachments": {},
   "cell_type": "markdown",
   "metadata": {},
   "source": [
    "The function below parses the arguments passed to the program. It takes one optional argument, n, which is an integer. The default value of n is None and the argument parser object has an add_argument method which takes in a string and other optional parameters."
   ]
  },
  {
   "cell_type": "code",
   "execution_count": 3,
   "metadata": {},
   "outputs": [],
   "source": [
    "def parse_args():\n",
    "    parser = argparse.ArgumentParser()\n",
    "    parser.add_argument(\"n\", type=int, nargs='?', default=None)\n",
    "    return parser.parse_args()\n"
   ]
  },
  {
   "attachments": {},
   "cell_type": "markdown",
   "metadata": {},
   "source": [
    "This function generates a list of random places. It takes in an integer n and returns a list of tuples containing the name, latitude, and longitude of each place. The number of places returned is equal to n.\n",
    "\n",
    "* for loop will be executed 'n' times\n",
    "* place_names is a list of names of cities and random.shuffle will shuffle those names\n",
    "* random_places is used to append/save to list name,latitude and longitude"
   ]
  },
  {
   "cell_type": "code",
   "execution_count": 4,
   "metadata": {},
   "outputs": [],
   "source": [
    "def generate_random_places(n):\n",
    "    random_places = []\n",
    "    place_names = [\"New York\", \"Los Angeles\", \"Chicago\", \"Houston\", \"Phoenix\", \"Philadelphia\", \"San Antonio\", \"San Diego\", \"Dallas\", \"San Jose\", \"Austin\", \"Jacksonville\", \"Fort Worth\", \"Columbus\", \"San Francisco\", \"Charlotte\", \"Indianapolis\", \"Seattle\", \"Denver\", \"Washington DC\"]\n",
    "    random.shuffle(place_names)\n",
    "    for name in place_names:\n",
    "        lat = random.randint(-90, 90)\n",
    "        lon = random.randint(-180, 180)\n",
    "        random_places.append((name, lat, lon))\n",
    "    return random_places[:n]\n",
    "        "
   ]
  },
  {
   "attachments": {},
   "cell_type": "markdown",
   "metadata": {},
   "source": [
    "This is a function that reads places from a csv file. It takes in an argument n which is the number of places to read. If n is not specified, it will read all the places in the csv file."
   ]
  },
  {
   "cell_type": "code",
   "execution_count": 5,
   "metadata": {},
   "outputs": [],
   "source": [
    "def read_places(n=None):\n",
    "    if n:\n",
    "        # Generate n random places\n",
    "        random_place = generate_random_places(n)\n",
    "        return random_place\n",
    "    else:\n",
    "        # Read from places.csv\n",
    "        with open(\"place.csv\") as f:\n",
    "            reader = csv.reader(f,delimiter=';')\n",
    "            next(reader)\n",
    "            return [(row[0],float(row[1]), float(row[2])) for row in reader]"
   ]
  },
  {
   "attachments": {},
   "cell_type": "markdown",
   "metadata": {},
   "source": [
    "This function calculates the distance between two points on Earth. It takes in two tuples, each containing a name, latitude and longitude of a place (p1,p2). The function then converts the latitudes and longitudes to radians using the radians function from the math module. Then it uses the Haversine formula to calculate the distance between these two places.which is an equation important in navigation, giving great-circle distances between two points on a sphere from their longitudes and latitudes. Finally, it returns this value multiplied by 6371 km (the radius of Earth)."
   ]
  },
  {
   "cell_type": "code",
   "execution_count": 6,
   "metadata": {},
   "outputs": [],
   "source": [
    "def air_distance(p1, p2):\n",
    "    # Convert to radians\n",
    "    lat1, lon1 = radians(p1[1]), radians(p1[2])\n",
    "    lat2, lon2 = radians(p2[1]), radians(p2[2])\n",
    "    # Haversine formula\n",
    "    dlon = lon2 - lon1\n",
    "    dlat = lat2 - lat1\n",
    "    a = sin(dlat / 2)**2 + cos(lat1) * cos(lat2) * sin(dlon / 2)**2\n",
    "    c = 2 * atan2(sqrt(a), sqrt(1 - a))\n",
    "    # Earth radius = 6371 km\n",
    "    return 6371 * c"
   ]
  },
  {
   "attachments": {},
   "cell_type": "markdown",
   "metadata": {},
   "source": [
    "This is the main function of the program. It takes in an argument from the command line, which is a number that represents how many random places to generate. The function then calls read_places() and passes in n as an argument. This returns a list of tuples containing place names, latitude and longitude coordinates.\n",
    "\n",
    "The main function then creates two empty lists: distances and seen. The for loop iterates through each tuple in places, assigning it to p1 and p2 respectively. If the tuple (p1, p2) or (p2, p1) has already been seen before, we skip it by using continue. Otherwise we add it to our set called seen so that we don't repeat ourselves later on when we encounter this pair again but with different values assigned to p1 and p2. We then call air_distance() passing in both tuples as arguments which returns the distance between them in kilometers as a float value. We append this distance along with both tuples into distances list as another tuple so that we can keep track of which pairs are closest together later on when sorting our list by distance values using key=lambda x: x[2].\n",
    "\n"
   ]
  },
  {
   "cell_type": "code",
   "execution_count": 14,
   "metadata": {},
   "outputs": [],
   "source": [
    "def main():\n",
    "    args = parse_args()\n",
    "    n = args.n\n",
    "    places = read_places(n)\n",
    "    distances = []\n",
    "    seen = set()\n",
    "    \n",
    "    for i in range(len(places)):\n",
    "        for j in range(i+1, len(places)):\n",
    "            p1 = places[i]\n",
    "            p2 = places[j]\n",
    "            if (p1, p2) in seen or (p2, p1) in seen:\n",
    "                continue\n",
    "            seen.add((p1, p2))\n",
    "            distance = air_distance(p1, p2)\n",
    "            distances.append((p1, p2, distance))\n",
    "            distances.sort(key=lambda x: x[2])\n",
    "            total_distance = 0\n",
    "            for (p1, p2, distance) in distances:\n",
    "                total_distance += distance\n",
    "                print(f\"{p1[0] : <20}    {p2[0]: ^15}     {distance:.2f}km.\")\n",
    "                avg_distance = total_distance / len(distances)\n",
    "                closest_pair = min(distances, key=lambda x: abs(x[2] - avg_distance))\n",
    "   \n",
    "                print(f\"Average distance: {avg_distance:.2f}km. Closest pair: {closest_pair[0][0]} - {closest_pair[1][0]} {closest_pair[2]:.2f} km.\")\n"
   ]
  }
 ],
 "metadata": {
  "kernelspec": {
   "display_name": "Python 3",
   "language": "python",
   "name": "python3"
  },
  "language_info": {
   "codemirror_mode": {
    "name": "ipython",
    "version": 3
   },
   "file_extension": ".py",
   "mimetype": "text/x-python",
   "name": "python",
   "nbconvert_exporter": "python",
   "pygments_lexer": "ipython3",
   "version": "3.8.6"
  },
  "orig_nbformat": 4,
  "vscode": {
   "interpreter": {
    "hash": "570feb405e2e27c949193ac68f46852414290d515b0ba6e5d90d076ed2284471"
   }
  }
 },
 "nbformat": 4,
 "nbformat_minor": 2
}
